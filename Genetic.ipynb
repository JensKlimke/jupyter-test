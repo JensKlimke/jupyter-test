{
  "nbformat": 4,
  "nbformat_minor": 0,
  "metadata": {
    "colab": {
      "name": "genetic.ipynb",
      "provenance": [],
      "authorship_tag": "ABX9TyM4xWWyjI7XG1aNc05Y2H7J",
      "include_colab_link": true
    },
    "kernelspec": {
      "name": "python3",
      "display_name": "Python 3"
    },
    "language_info": {
      "name": "python"
    }
  },
  "cells": [
    {
      "cell_type": "markdown",
      "metadata": {
        "id": "view-in-github",
        "colab_type": "text"
      },
      "source": [
        "<a href=\"https://colab.research.google.com/github/JensKlimke/jupyter-test/blob/main/Genetic.ipynb\" target=\"_parent\"><img src=\"https://colab.research.google.com/assets/colab-badge.svg\" alt=\"Open In Colab\"/></a>"
      ]
    },
    {
      "cell_type": "markdown",
      "source": [
        "# Beispiel eines generischen Argorithmus\n",
        "\n",
        "\n",
        "\n",
        "1.   1\n",
        "2.   Listeneintrag\n",
        "\n"
      ],
      "metadata": {
        "id": "7XGHapFS6TXk"
      }
    },
    {
      "cell_type": "code",
      "execution_count": null,
      "metadata": {
        "id": "d4sukDIf6Qaa"
      },
      "outputs": [],
      "source": [
        ""
      ]
    }
  ]
}